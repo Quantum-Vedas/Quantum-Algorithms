{
  "cells": [
    {
      "cell_type": "markdown",
      "metadata": {
        "id": "view-in-github",
        "colab_type": "text"
      },
      "source": [
        "<a href=\"https://colab.research.google.com/github/Quantum-Vedas/Quantum-Algorithms/blob/main/Shor.ipynb\" target=\"_parent\"><img src=\"https://colab.research.google.com/assets/colab-badge.svg\" alt=\"Open In Colab\"/></a>"
      ]
    },
    {
      "cell_type": "code",
      "execution_count": null,
      "metadata": {
        "id": "kw423rRxRuZx"
      },
      "outputs": [],
      "source": [
        "import matplotlib.pyplot as plt\n",
        "%matplotlib inline\n",
        "import numpy as np\n",
        "\n",
        "from qiskit import *\n",
        "from qiskit.providers.ibmq import least_busy\n",
        "from qiskit import QuantumCircuit, ClassicalRegister, QuantumRegister, execute\n",
        "from qiskit.quantum_info import Statevector\n",
        "from qiskit.circuit.library import QFT\n",
        "from qiskit.visualization import plot_state_qsphere\n",
        "from qiskit.quantum_info import Operator\n",
        "from qiskit.tools.monitor import job_monitor\n",
        "\n",
        "from qiskit.tools.visualization import plot_histogram\n",
        "from IPython.display import display, Math, Latex\n",
        "import math"
      ]
    },
    {
      "cell_type": "markdown",
      "metadata": {
        "id": "XjAql941RuZ1"
      },
      "source": [
        "# An encryption problem"
      ]
    },
    {
      "cell_type": "markdown",
      "metadata": {
        "id": "btVIZd84RuZ3"
      },
      "source": [
        "A pretty well-known problem in computer science is the problem of encryptying messages, i.e, given a message $m$, a sender $A$ and a receiver $B$, we want to send the message $m$ encrypted, so that only $B$ will be able to decrypt the information sended from $A$. We can ilustrate this situation by a simple example: Lets suppose Alice wants to send her secret chocolate cake recipe to Bob, but the message will be stolen if the used information channel is unsafe, and her archenemy, Eve, will finally find out Alice's delicious secret chocolate cake recipe. And we know that both Alice and Bob have lots of padlocks, but they don't share any of its keys. Hence from that we got our main problem.\n",
        "\n",
        "$$\n",
        "\\text{How Alice could send the secret recipe to Bob, without being eavesdropped on?}\n",
        "$$\n",
        "# The Caesar's Cipher\n",
        "\n",
        "Throughout history this problem achieved huge relevance, once to be able to send secret messages to someone is a kind of communication superpower. A simple example of information cryptography enconding is The Caesar's Cipher, using it we can encode a message by shifting its characters by a constant private key $k$ in the roman alphabet\n",
        "$$\n",
        "    \\Sigma = \\text{ABCDEFGHIJKLMNOPQRSTUVWXYZ}\n",
        "$$\n",
        "\n",
        "Then, given a message $x =$ CHOCOLATE CAKE, and a encryption function with a factor private key $\\text{k} = 4$\n",
        "\n",
        "$$\n",
        "    E_k(x) = (x + \\text{k}) \\text{ mod } 26\n",
        "$$\n",
        "We get an encrypted message $y =$ GLSGSPEXI GEOI."
      ]
    },
    {
      "cell_type": "code",
      "execution_count": null,
      "metadata": {
        "id": "RvXa9ZZgRuZ4"
      },
      "outputs": [],
      "source": [
        "def encryptCipher(x, k):\n",
        "    encryptedStr = \"\"\n",
        "    \n",
        "    for ch in x:\n",
        "        newCh = ch\n",
        "        if (ord(ch) >= ord(\"A\") and ord(ch) <= ord(\"Z\")):\n",
        "            newCh = chr((ord(ch) - ord(\"A\") + k)%26 + ord(\"A\"))   \n",
        "            \n",
        "        encryptedStr = encryptedStr + newCh     \n",
        "\n",
        "    return encryptedStr"
      ]
    },
    {
      "cell_type": "markdown",
      "metadata": {
        "id": "PdeYzgedRuZ5"
      },
      "source": [
        "And to decrypt the message, we need just to have or find out the factor $\\text{k}$ and to apply a decryption function\n",
        "\n",
        "$$\n",
        "    D_k(x) = (x - \\text{k}) \\text{ mod } 26\n",
        "$$"
      ]
    },
    {
      "cell_type": "code",
      "execution_count": null,
      "metadata": {
        "id": "TOrs0V3FRuZ5"
      },
      "outputs": [],
      "source": [
        "def decryptCipher(x, k):\n",
        "    decryptedStr = \"\"\n",
        "    \n",
        "    for ch in x:\n",
        "        newCh = ch\n",
        "        if (ord(ch) >= ord(\"A\") and ord(ch) <= ord(\"Z\")):\n",
        "            newCh = chr((ord(ch) - ord(\"A\") - k + 26)%26 + ord(\"A\"))\n",
        "        decryptedStr = decryptedStr + newCh\n",
        "    \n",
        "    return decryptedStr"
      ]
    },
    {
      "cell_type": "code",
      "execution_count": null,
      "metadata": {
        "id": "RZ8qRyR-RuZ6",
        "outputId": "fafaccf5-7754-4d0d-e895-7b216723aac8"
      },
      "outputs": [
        {
          "name": "stdout",
          "output_type": "stream",
          "text": [
            "Initial message: CHOCOLATE CAKE\n",
            "Encrypted Message: GLSGSPEXI GEOI\n",
            "\n",
            "Message successfully decrypted: CHOCOLATE CAKE\n"
          ]
        }
      ],
      "source": [
        "x = \"CHOCOLATE CAKE\"\n",
        "k = 4\n",
        "\n",
        "y = encryptCipher(x, k)\n",
        "d = decryptCipher(y, k)\n",
        "\n",
        "print(f'Initial message: {x}\\nEncrypted Message: {y}\\n')\n",
        "\n",
        "if (x == d):\n",
        "    print(f\"Message successfully decrypted: {d}\")\n",
        "else:\n",
        "    print(\"Decryption Failed\")"
      ]
    },
    {
      "cell_type": "markdown",
      "metadata": {
        "id": "LW9_cW_TRuZ8"
      },
      "source": [
        "It's easy to see why this is not a safe encryption method, since we can easily bruteforce the initial message by testing all 26 possible private $\\text{k}$ keys. Therefore, Alice would most likely like want to use a more safe encryption algorithm to avoid any eavesdropping from her archenemy. "
      ]
    },
    {
      "cell_type": "markdown",
      "metadata": {
        "id": "307GPcRcRuZ8"
      },
      "source": [
        "# The RSA Algorithm"
      ]
    },
    {
      "cell_type": "markdown",
      "metadata": {
        "id": "a4h0uKslRuZ9"
      },
      "source": [
        "An idea that could be better for Alice's and Bob's problem is developed based on public-key distribution cryptography. Alice will receive a public key from Bob, encrypt her message using it, then send it to Bob, that will decrypt the message sended by Alice with his private key. \n",
        "\n",
        "This looks a lot like with the RSA encryption protocol, heavily used to securely transmit messages over the internet. Developed by Ron Rivest, Adi Shamir e Leonard Adleman, the RSA algorithm is based on the public-key distribution cryptography model, where we have an encryption key, which is public, and a decryption key, which is private.\n",
        "\n",
        "In this cryptography protocol our user will get the public-key by the multiplication of two large prime numbers $p$ and $q$, and the private-key will also be generated by other particular use of these prime numbers. Our user can easily distribute the public key $N = pq$, while mantaining securely the individual values of $p$ and $q$, since to factor a number into two prime factors is a pretty difficult problem for classical computers.\n",
        "\n",
        "The key generator implementation can be easily described by the following steps  \n",
        "\n",
        "$$\n",
        "\\begin{align*}\n",
        "1.&\\quad\\text{ Randomly pick two large prime numbers } p \\text{ and } q \\text{, and take their product } n = pq.\\\\\n",
        "2.&\\quad\\text{ Compute Euler's Totient function } \\phi(n) = (p - 1)(q - 1) \\text{, and pick a number } e \\text{ so that, } 1 \\leq e \\leq \\phi(n) \\text{ and gcd}(e, \\phi(n)) = 1.\\\\\n",
        "3.&\\quad\\text{ Calculate the modular inverse } d \\text{ of } e \\text{ modulo } \\phi(n) \\text{ i.e, } de \\equiv 1 \\text{ mod }\\phi(n) \\text{. In other words } d \\text{ is the multiplicative inverse of } e \\text{ in } \\phi(N).\\\\\n",
        "4.&\\quad\\text{ Distribute the public-key } (n, e) \\text{ and keep the secret private-key } (p, q, d).\\\\\n",
        "\\end{align*}\n",
        "$$\n",
        "\n",
        "Hence, to encrypt a message $m$, where $m < n$, to transmit a ciphertext $c$, we just take by fast exponentiation\n",
        "\n",
        "$$\n",
        "    c = m^e\\text{ mod } n\n",
        "$$\n",
        "\n",
        "And likewise, the message receiver computes $m = c^d \\text{ mod } n$, retrieving the original $m$ message."
      ]
    },
    {
      "cell_type": "code",
      "execution_count": null,
      "metadata": {
        "id": "tksKKCbyRuZ-"
      },
      "outputs": [],
      "source": [
        "def fastExp(a, b, n):\n",
        "    ans = 1\n",
        "    #computes a^b in O(log b)\n",
        "    while b > 0:\n",
        "        if (b & 1):\n",
        "            ans = (ans * a)%n\n",
        "        a = (a*a)%n\n",
        "        b = b >> 1\n",
        "        \n",
        "    return ans"
      ]
    },
    {
      "cell_type": "code",
      "execution_count": null,
      "metadata": {
        "id": "RRmJSUk5RuZ_"
      },
      "outputs": [],
      "source": [
        "def encryptRSA(m, n, e):\n",
        "    c = fastExp(m, e, n)\n",
        "    return c"
      ]
    },
    {
      "cell_type": "code",
      "execution_count": null,
      "metadata": {
        "id": "I_D9LdAfRuZ_"
      },
      "outputs": [],
      "source": [
        "def decryptRSA(c, d, n):\n",
        "    m =  fastExp(c, d, n)\n",
        "    return m"
      ]
    },
    {
      "cell_type": "markdown",
      "metadata": {
        "id": "0BxPY25nRuaA"
      },
      "source": [
        "As an example, lets consider the first word of our message $x =$ \"CAKE\", and arbitrary prime numbers $p, q$ and $e$."
      ]
    },
    {
      "cell_type": "code",
      "execution_count": null,
      "metadata": {
        "id": "Yj3oy1DzRuaA"
      },
      "outputs": [],
      "source": [
        "#set 'p', 'q', e and 'n'\n",
        "#CAKE = 67 65 75 69 10 \n",
        "m = 6765756910\n",
        "p = 42643801; q = 59604644783353249; e = 2097593\n",
        "n = p*q\n",
        "\n",
        "#computes 'phi(n)'\n",
        "phi_n = (p-1)*(q-1)\n",
        "\n",
        "#computes multiplicative inverse 'd' of 'e mod phi(n)' (python is strange)\n",
        "d = pow(e, -1, phi_n)"
      ]
    },
    {
      "cell_type": "code",
      "execution_count": null,
      "metadata": {
        "id": "PGlVtG15RuaA"
      },
      "outputs": [],
      "source": [
        "c = encryptRSA(m, n, e)\n",
        "y = decryptRSA(c, d, n)"
      ]
    },
    {
      "cell_type": "code",
      "execution_count": null,
      "metadata": {
        "id": "QcRoEC3xRuaB",
        "outputId": "bbbe94f3-b5c2-4d21-9484-b4c5b863a03d"
      },
      "outputs": [
        {
          "name": "stdout",
          "output_type": "stream",
          "text": [
            "Initial message: 6765756910\n",
            "Encrypted ciphertext message: 587708175265402063982608\n",
            "\n",
            "Message successfully decrypted: 6765756910\n"
          ]
        }
      ],
      "source": [
        "print(f'Initial message: {m}\\nEncrypted ciphertext message: {c}\\n')\n",
        "\n",
        "if m == y:\n",
        "    print(f\"Message successfully decrypted: {y}\")\n",
        "else:\n",
        "     print(\"Decryption Failed\")"
      ]
    },
    {
      "cell_type": "markdown",
      "metadata": {
        "id": "ep0tdzZqRuaB"
      },
      "source": [
        "Now that we understood how the RSA protocol works, Alice and Bob are wondering if this might be a good choice for Alice's recipe encryption. And the answer (until now) is YES. As most simple as it might seen, the problem of factoring a number into two primes $p$, $q$ or finding the $d$ factor for a given $c$ ciphertext, i.e, breaking the encryption by finding out the private-key, is a pretty difficult problem for computers to solve. \n",
        "\n",
        "This fact comes from the notion that in practice the prime numbers used to encode messages like this are of the order of $10^100$. Therefore algorithms of complexity $O\\big(\\sqrt{N}\\big)$ such as Euler's Totient function algorithm, would take an exponential time to run.\n",
        "\n",
        "Since, let $N$ be a positive integer and $k = \\log_2 N$. A complexity of $O\\big(\\sqrt{N}\\big)$ will be equivalent to $O\\big(\\sqrt{2^k}\\big)$, which is an exponential running time algorithm in terms of the input length for pratical purposes.\n",
        "\n",
        "But what would happen if we had a Quantum Computer? Is Alice's recipe still safe? *Yes*? Are you Shor about that?"
      ]
    },
    {
      "cell_type": "markdown",
      "metadata": {
        "id": "Sb6x5JOMRuaB"
      },
      "source": [
        "# Modular Arithmetic and Periodic Functions\n",
        "\n",
        "Let $N$ be the integer, such that $N = pq$, and $f : \\mathbb{Z} \\rightarrow \\mathbb{Z}_N$ be a modular periodic function defined as\n",
        "\n",
        "$$\n",
        "    f(x) = a^{x} \\text{ mod } N\n",
        "$$\n",
        "\n",
        "Then, we aim to find the periodicity of this function defined by the smallest positive integer $r$ so that $a^r \\equiv 1 \\text{ mod } N$.\n",
        "\n",
        "We can ilustrate our problem by the following example with $N = 15$ and $a = 13$.\n",
        "\n",
        "$$\n",
        "\\begin{align*}\n",
        "    x &= 0 \\quad 1 \\quad \\text{          }\\text{ }2 \\quad 3 \\quad 4 \\text{ }\\text{ }\\quad 5 \\text{ }\\quad 6 \\quad 7 \\quad 8 \\\\\n",
        "    x &\\equiv \\underbrace{1 \\quad 13 \\quad 4 \\quad 7 \\quad 1}_\\text{Period $r = 4$} \\quad 13 \\quad 4 \\quad 7 \\quad 1 \\quad (\\text{mod } 15) \\\\\n",
        "\\end{align*}\n",
        "$$\n",
        "\n",
        "Which give us a period $r = 4$. "
      ]
    },
    {
      "cell_type": "code",
      "execution_count": null,
      "metadata": {
        "id": "CrAHm44nRuaC",
        "outputId": "bffe0382-b833-4cb5-a208-fbcc933f4564"
      },
      "outputs": [
        {
          "data": {
            "text/plain": [
              "Text(4, 1, '')"
            ]
          },
          "execution_count": 12,
          "metadata": {},
          "output_type": "execute_result"
        },
        {
          "data": {
            "image/png": "[encoded data removed]",
            "text/plain": [
              "<Figure size 432x288 with 1 Axes>"
            ]
          },
          "metadata": {
            "needs_background": "light"
          },
          "output_type": "display_data"
        }
      ],
      "source": [
        "N = 15; a = 13\n",
        "\n",
        "x = [i for i in range(N)]\n",
        "y = list(map(lambda n: fastExp(a, n, N), x))\n",
        "\n",
        "r = 4\n",
        "             \n",
        "plt.plot(x, y, linestyle='dotted', marker='o')\n",
        "plt.xlabel(\"$x$\")\n",
        "plt.ylabel(\"$f(x) = 13^x$ mod $15$\")\n",
        "plt.annotate(text='$r=4$', xy=(r/3, 1.2))\n",
        "plt.annotate(text='', xy=(0,1), xytext=(r,1), arrowprops=dict(arrowstyle='<->'))"
      ]
    },
    {
      "cell_type": "markdown",
      "metadata": {
        "id": "gjGFfF94RuaC"
      },
      "source": [
        "## Lagrange's Theorem\n",
        "\n",
        "Let $H$ be a subgroup of $G$ and elements $a, b \\in G$. Then\n",
        "$$\n",
        "\\begin{align*}\n",
        "    1. &\\quad  a \\in aH\\\\\n",
        "    2. &\\quad  aH = H \\text{ if and only if } a \\in H\\\\\n",
        "    3. &\\quad aH = bH \\text{ if and only if } a \\in bH\\\\\n",
        "    4. &\\quad aH = bH \\text{ or } aH \\cap bH = \\emptyset \n",
        "\\end{align*}\n",
        "$$\n",
        "\n",
        "If $G$ is finite group and $H \\leqslant G$, then $|H|$ divides $|G|$. Moreover, the number of distinct left/right cosets of $H$ in $G$ is given by $|G|/|H|$.  \n",
        "\n",
        "\n",
        " Let $a_1 H, ..., a_d H$ be distinct left cosets of $H$ in $G$. Then, by Lemma 1, they are disjoint and\n",
        " \n",
        "$$\n",
        "    G = a_1H \\cup \\dots \\cup a_dH\n",
        "$$\n",
        "\n",
        "And moreover,\n",
        "$$\n",
        "\\begin{align*}\n",
        "    |G| &= |a_1H| + \\dots + |a_kH|\\\\\n",
        "        &= d|H|\n",
        "\\end{align*}\n",
        "$$\n",
        "\n",
        "## Fermat's Little Theorem\n",
        "\n",
        "An important result for the purposes of this notebook is Fermat's Little Theorem, which states the following\n",
        "\n",
        "$$\n",
        "    a^{p-1} \\equiv 1 \\text{ mod } p\n",
        "$$\n",
        "\n",
        "where $p$ is a prime and $0 \\leq a \\leq p - 1$.\n",
        "\n",
        "We can prove this by reconizing that $\\mathbb{Z}_p$ generates a group under multiplication modulo $p$, $G = \\{1, 2, ..., p - 1\\}$. Now let $d$ be the order of an element $a$, i.e, $d$ is the smallest positive integer such that $a^d \\equiv 1 \\text{ mod } p$, and it follows that the numbers $1, a, a^2, ..., a^{d - 1}$ are a subgroup of order $d$ of $G$.\n",
        "\n",
        "Then it follows by Lagrange's Theorem that $d | p - 1$, and $p - 1 = dm$ for some m integer $m \\geq 0$.\n",
        "\n",
        "$$\n",
        "    a^{p-1} \\equiv a^{dm} \\equiv (a^d)^m \\equiv 1^m \\equiv 1 \\text{ mod } p\n",
        "$$\n",
        "\n",
        "And our result holds.\n",
        "\n",
        "## Euler's Theorem\n",
        "\n",
        "Now we can prove a generalization of Fermat's Little Theorem which states that \n",
        "\n",
        "$$\n",
        "    a^{\\phi(n)} \\equiv 1 \\text{ mod } n\n",
        "$$\n",
        "\n",
        "where $n$ is a positive integer and $\\gcd(a, n) = 1$.\n",
        "\n",
        "Again, by reconizing that $\\mathbb{Z}_n$ with multiplicative inverses generates a group under multiplication modulo $n$, $G = \\{1, 2, ..., \\phi(n)\\}$. The subgroup generated by an element $a$ of order $d$ consisted by the elements $1, a, a^2, ..., a^{d-1}$, and since $a^d \\equiv 1 \\text{ mod } n$, by Lagrange's Theorem we have that $d | \\phi(n)$, and $\\phi(n) = dm$ for some m integer $m \\geq 0$.\n",
        "\n",
        "$$\n",
        "    a^{\\phi(n)} \\equiv a^{dm} \\equiv (a^d)^m \\equiv 1^m \\equiv 1 \\text { mod } n\n",
        "$$\n",
        "\n",
        "Hence our result holds."
      ]
    },
    {
      "cell_type": "markdown",
      "metadata": {
        "id": "fmeBYW17RuaC"
      },
      "source": [
        "# A (Qu)bit of Quantum Computation\n",
        "\n",
        "In Classical Computers, those that some of us have at home, works under fundamental information unit of $0$'s and $1$'s bits, physically represented by low and high voltages on chips transistors. \n",
        "\n",
        "Differently Quantum Computers works under a basic unit of quantum information call qubits, represented on the computational basis $|0\\rangle$ and $|1\\rangle$.\n",
        "\n",
        "$$\n",
        "|0\\rangle = \\begin{bmatrix}\n",
        "    1 \\\\\n",
        "    0 \n",
        "\\end{bmatrix}  \\quad\n",
        "|1\\rangle = \\begin{bmatrix}\n",
        "    0 \\\\\n",
        "    1 \n",
        "\\end{bmatrix}\n",
        "$$\n",
        "\n",
        "We can physically interpretate qubits as hydrogen molecules, where the ground state is represented as the state $|0\\rangle$ and the excited as the state $|1\\rangle$.\n",
        "\n",
        "A qubit can be mathematically represented as a linear combination\n",
        "\n",
        "$$\n",
        "    |\\psi\\rangle = \\alpha|0\\rangle + \\beta|1\\rangle\n",
        "$$\n",
        "\n",
        "with $\\alpha$, $\\beta \\in \\mathbb{C}$ and $|\\alpha|^2 + |\\beta|^2 = 1$."
      ]
    },
    {
      "cell_type": "code",
      "execution_count": null,
      "metadata": {
        "id": "FbE2QchgRuaD",
        "outputId": "3605954f-2fb1-4a95-da9c-887e5d35e589"
      },
      "outputs": [
        {
          "name": "stdout",
          "output_type": "stream",
          "text": [
            "State_0  |x> =  [1.+0.j 0.+0.j]\n",
            "State_1  |x> =  [0.+0.j 1.+0.j]\n"
          ]
        }
      ],
      "source": [
        "#define a 1 qubit state |0>\n",
        "sv_0 = Statevector.from_label('0')\n",
        "print('State_0  |x> = ', sv_0.data)\n",
        "\n",
        "#define a 1 qubit state |1>\n",
        "sv_1 = Statevector.from_label('1')\n",
        "print('State_1  |x> = ', sv_1.data)"
      ]
    },
    {
      "cell_type": "markdown",
      "metadata": {
        "id": "KeB-7NPlRuaD"
      },
      "source": [
        "Quantum Mechanical Phenomena as superposition and entanglement can be used to create efficient problem solutions. And we do that by applying linear unitary transformations on quantum states.\n",
        "\n",
        "One of the most important gates in Quantum Computing is the Hadarmad Gate $H$, a recursevely constructed matrix of order $2^n$.\n",
        "\n",
        "$$\n",
        "\\begin{align*}\n",
        "H_0 = \\begin{bmatrix}\n",
        "                       1\n",
        "                       \\end{bmatrix} \\qquad\n",
        "H_1 = \\frac{1}{\\sqrt{2}} \\begin{bmatrix}\n",
        "                       1 & 1\\\\\n",
        "                       1 & -1\n",
        "                       \\end{bmatrix} \\qquad \n",
        "H_n = \\frac{1}{\\sqrt{2^n}} \\begin{bmatrix}\n",
        "                       H_{n-1} & H_{n-1}\\\\\n",
        "                       H_{n-1} & -H_{n-1}\n",
        "                       \\end{bmatrix}\n",
        "\\end{align*}\n",
        "$$"
      ]
    },
    {
      "cell_type": "markdown",
      "metadata": {
        "id": "AOyBsizTRuaD"
      },
      "source": [
        "Which can be used to put a state $|\\psi\\rangle$ in superposition, i.e, to take a state from the computational basis to the $|+\\rangle$ and $|-\\rangle$ basis, where we have $\\frac{1}{2}$ probability of measuring $|1\\rangle$ and $\\frac{1}{2}$ of measuring $|0\\rangle$. And we define the operation of applying a Hadarmard gate into a quantum state as it follows. Here we're going to assume $H = H_1$\n",
        "\n",
        "$$\n",
        "\\begin{align*}\n",
        "\\\\H|0\\rangle = \\frac{1}{\\sqrt{2}} \\begin{bmatrix}\n",
        "                                   1 & 1\\\\\n",
        "                                   1 & -1\n",
        "                                \\end{bmatrix} \n",
        "                                %\n",
        "             \\begin{bmatrix}\n",
        "             1 \\\\\n",
        "             0\n",
        "             \\end{bmatrix}\n",
        "             =\n",
        "             \\frac{|0\\rangle + |1\\rangle}{\\sqrt{2}}\n",
        "             =\n",
        "             |+\\rangle\n",
        "\\\\\\\\H|1\\rangle = \\frac{1}{\\sqrt{2}} \\begin{bmatrix}\n",
        "                                   1 & 1\\\\\n",
        "                                   1 & -1\n",
        "                                \\end{bmatrix} \n",
        "                                %\n",
        "             \\begin{bmatrix}\n",
        "             0 \\\\\n",
        "             1\n",
        "             \\end{bmatrix}\n",
        "             =\n",
        "             \\frac{|0\\rangle - |1\\rangle}{\\sqrt{2}}\n",
        "             =\n",
        "             |-\\rangle\n",
        "\\end{align*}\\\\\n",
        "$$\n",
        "\n",
        "Which can be generally seen for an arbitrary state on n-qubits $|x\\rangle$ as\n",
        "\n",
        "$$\n",
        "\\begin{align*}\n",
        "H|x\\rangle &= \\frac{1}{\\sqrt{2^n}}\\sum_{k \\in \\{0, 1\\}^n}(-1)^{\\langle x, k\\rangle}|k\\rangle\n",
        "\\end{align*}\n",
        "$$"
      ]
    },
    {
      "cell_type": "code",
      "execution_count": null,
      "metadata": {
        "id": "2IIrcThPRuaE",
        "outputId": "0977386e-6698-4732-8f5c-63e28b917cce"
      },
      "outputs": [
        {
          "name": "stdout",
          "output_type": "stream",
          "text": [
            "State_0 H|x> =  [0.70710678+0.j 0.70710678+0.j]\n"
          ]
        },
        {
          "data": {
            "image/png": "[encoded data removed]",
            "text/plain": [
              "<Figure size 133.526x84.28 with 1 Axes>"
            ]
          },
          "execution_count": 14,
          "metadata": {},
          "output_type": "execute_result"
        }
      ],
      "source": [
        "#build a circuit with the H gate\n",
        "mycircuit = QuantumCircuit(1)\n",
        "mycircuit.h(0)\n",
        "\n",
        "#apply the circuit into |x>\n",
        "sv_0 = sv_0.evolve(mycircuit)\n",
        "\n",
        "print('State_0 H|x> = ', sv_0.data)\n",
        "mycircuit.draw('mpl')"
      ]
    },
    {
      "cell_type": "markdown",
      "metadata": {
        "id": "Xup_kKrIRuaE"
      },
      "source": [
        "### A Tensor Disclaimer\n",
        "\n",
        "Given two matrices,\n",
        "\n",
        "$$\n",
        "    A = \\begin{bmatrix}\n",
        "    a_{00} & a_{01} \\\\\n",
        "    a_{10} & a_{11} \n",
        "    \\end{bmatrix}  \\quad \n",
        "    B = \\begin{bmatrix}\n",
        "    b_{00} & b_{01} \\\\\n",
        "    b_{10} & b_{11} \n",
        "    \\end{bmatrix} \n",
        "$$\n",
        "\n",
        "we define the kronecker (tensor) product of $A \\otimes B$ as\n",
        "\n",
        "$$\n",
        "    A \\otimes B =  \\begin{bmatrix}\n",
        "a_{00} B & a_{01} B \\\\\n",
        "a_{10} B & a_{11} B \n",
        "\\end{bmatrix}  \n",
        "$$\n",
        "\n",
        "Some useful examples and notation for qubit strings\n",
        "\n",
        "$$\n",
        "\\begin{align*}\n",
        "        |0\\rangle_0 \\otimes |0\\rangle_1 \\otimes \\dots \\otimes |0\\rangle_n & = |00 \\dots 0 \\rangle \\\\ & =|0\\rangle^{\\otimes n}\\\\\n",
        "\\end{align*}\n",
        "$$\n",
        "\n",
        "Which is a vector of dimension $2^{n}$.\n",
        "\n",
        "Analagously for matrices,\n",
        "\n",
        "$$\n",
        "\\begin{align*}\n",
        "    H \\otimes H \\otimes \\dots \\otimes H = H^{\\otimes n}\n",
        "\\end{align*}\n",
        "$$\n",
        "\n",
        "Which is a matrix of dimensions $2^{n} \\times 2^{n}$."
      ]
    },
    {
      "cell_type": "markdown",
      "metadata": {
        "id": "Z6KOWUgXRuaE"
      },
      "source": [
        "# Shor's Algorithm"
      ]
    },
    {
      "cell_type": "markdown",
      "metadata": {
        "id": "3UAltgtNRuaE"
      },
      "source": [
        "On the beggining of this article we saw why factoring is such a difficult problem, and now we are going to introduce an algorithm that solves this problem efficiently. However, there's a catch, of course: this algorithm needs a quantum computer to execute it.\n",
        "\n",
        "Invented by the MIT mathematician Peter Shor in 1994, Shor's algorithm is polinomyal-time quantum computer algorithm that solves the problem of integer factorization. In other words, the problem lies in the idea of: Given a integer $N$, such that $N = pq$, where $p$ and $q$ are large prime numbers, our goal is to find these factors efficiently. \n",
        "\n",
        "Classically as we have already discussed this problem would take an exponential amount of time to run in terms of the input lenght. While the quantum solution that we're going to discuss has a time complexity of the order of $O(N^3\\log_2 N)$, where $N$ is the number of qubits, which can be even faster with proper optimizations. Therefore, we have an exponential speed-up when compared with classical solutions with the most clever known sub-exponential running time complexity of $O(e^{1.9(N^{1/3})(\\log N)^{2/3}})$."
      ]
    },
    {
      "cell_type": "markdown",
      "metadata": {
        "id": "9_gggO_aRuaE"
      },
      "source": [
        "<img src=\"images/shor_circuit.png\" style=\"width:1000px; height:180px\"/>"
      ]
    },
    {
      "cell_type": "markdown",
      "metadata": {
        "id": "CGCEnwH5RuaF"
      },
      "source": [
        "## Setting up periodicity\n",
        "\n",
        "The algorithm lies on the idea of finding a non-trivial square root of 1 modulo $N$, where $N$ is the integer that we want to factorize. To find such root we will compute the order of a given element $1 \\leq a \\leq N - 1$ modulo N. Which will be precisely given by the period of the periodic function $f(x) = a^{x} \\text{ mod } N$ on the superposition created on $M$ qubits, where $M$ is a power of two $M \\approx N$. \n",
        "\n",
        "Let's take our periodic function $f(x) = x^a\\text{ mod }M$ and apply it to our algorithm input.\n",
        "\n",
        "Initially we will initialilize two quantum registers with $|0\\rangle^{\\log M}|0\\rangle^{N}$, and apply Hadamard gates on each of the $\\log M$ first ones, to get a uniform superposition of the states from $0$ to $M - 1$.\n",
        "\n",
        "$$\n",
        "    H^{\\otimes M}|0\\rangle^{\\log M}|0\\rangle^{N} = \\frac{1}{\\sqrt{M}} \\sum_{x = 0}^{M - 1} |x\\rangle |0\\rangle\n",
        "$$\n",
        "\n",
        "Now applying the periodic function $f(x)$ on the second register we will get an state\n",
        "\n",
        "$$\n",
        "    \\frac{1}{\\sqrt{M}} \\sum_{x = 0}^{M - 1} |x\\rangle |f(x)\\rangle\n",
        "$$\n",
        "\n",
        "Then by measuring the second register we will get a periodic superposition on the first register of period $r$, which more precisely is the order of $a$.\n",
        "\n",
        "The idea of why this happens is due the periodicity of our superposition, every *rth* position of the second register are the same, hence the measurement of the second register yelds a $y$ output between $0$ and $r - 1$. And the first register is now on superposition of only this values $y, y + r, \\dots, y + M - r$, which is a periodic superpostion, with period $r$."
      ]
    },
    {
      "cell_type": "markdown",
      "metadata": {
        "id": "a1sOrf7xRuaF"
      },
      "source": [
        "## The Quantum Period Finding Function\n",
        "\n",
        "Finally, this period can be found by applying the Fast Fourier Transform, ops, the Quantum Fourier Transform :D \n",
        "\n",
        "The Fast Fourier Tranform can be seen as a transformation which takes our superposition on the computational basis and rotates it to the fourier basis.  For a input of size $M$ we have such as."
      ]
    },
    {
      "cell_type": "markdown",
      "metadata": {
        "id": "Jg6XBZ4GRuaF"
      },
      "source": [
        "<img src=\"images/fourier_matrix.png\" style=\"width:290px; height:160px\"/>"
      ]
    },
    {
      "cell_type": "markdown",
      "metadata": {
        "id": "gcGMb9D2RuaF"
      },
      "source": [
        "Effectvely the QFT is just a change of basis from the Computational Basis to the Fourier Basis, one small example that we already know is given by the function $f$ that takes a single qubit \n",
        "\n",
        "$$\n",
        "      f:\\{|0\\rangle, |1\\rangle\\} \\rightarrow \\{|+\\rangle, |-\\rangle\\} \n",
        "$$\n",
        "\n",
        "which is clearly done by the Hadarmard gate $H$, a single qubit QFT. Therefore, to the general case on state of $n$ qubits $|x\\rangle$ we define the QFT as follows\n",
        "\n",
        "$$\n",
        "    |\\chi\\rangle = QFT|x\\rangle = \\frac{1}{\\sqrt{N}}\\sum_{y = 0}^{N-1}e^{\\frac{2\\pi i xy}{N}}|y\\rangle\n",
        "$$"
      ]
    },
    {
      "cell_type": "markdown",
      "metadata": {
        "id": "813lEZUxRuaF"
      },
      "source": [
        "Hence, from that definition we can extract our single-qubit $\\{|0\\rangle, |1\\rangle\\}$ example, so let $N = 2$\n",
        "\n",
        "$$\n",
        "\\begin{align*}\n",
        "    QFT|x\\rangle &= \\frac{1}{\\sqrt{2}}\\sum_{y = 0}^{N-1}e^{\\frac{2\\pi ixy}{2}}|y\\rangle\\\\\n",
        "                 &= \\frac{1}{\\sqrt{2}}\\bigg[e^{i\\pi x0}|0\\rangle + e^{i\\pi x1}|1\\rangle\\bigg]\\\\\n",
        "                 &= \\frac{1}{\\sqrt{2}}\\bigg[|0\\rangle + e^{i\\pi x}|1\\rangle\\bigg]\\\\                    \n",
        "                 &= \\begin{cases} |+\\rangle, & \\mbox{if } |x\\rangle = |0\\rangle\\\\ |-\\rangle, & \\mbox{if } |x\\rangle = |1\\rangle \\end{cases}\\\\\n",
        "\\end{align*}\n",
        "$$\n",
        "\n",
        "Now, expanding this from the general definition above on $n$ qubits we have that\n",
        "\n",
        "$$\n",
        "\\begin{align*}\n",
        "    |\\chi\\rangle &= \\frac{1}{\\sqrt{N}}\\sum_{y = 0}^{N-1}e^{\\frac{2\\pi i xy}{N}}|y\\rangle\\\\\n",
        "                 &= \\frac{1}{\\sqrt{N}}\\sum_{y = 0}^{N-1}e^{2\\pi ix\\sum_{k = 1}^{n}\\frac{y^k}{2^k}}|y_1 y_2 \\dots y_n\\rangle\\\\\n",
        "                 &= \\frac{1}{\\sqrt{N}}\\sum_{y = 0}^{N-1}\\displaystyle\\prod_{k = 1}^{n}e^{2\\pi ix\\frac{y^k}{2^k}}|y_1 y_2 \\dots y_n\\rangle\\\\                    \n",
        "                 &= \\frac{1}{\\sqrt{N}}\\bigotimes_{k = 1}^{n}\\bigg(|0\\rangle + e^{{\\frac{2\\pi ix}{2^k}}}|1\\rangle\\bigg)\\\\\n",
        "                 &= \\frac{1}{\\sqrt{N}}\\bigg(|0\\rangle + e^{{\\frac{2\\pi ix}{2^1}}}|1\\rangle\\bigg)\\otimes\\bigg(|0\\rangle + e^{{\\frac{2\\pi ix}{2^2}}}|1\\rangle\\bigg)\\otimes\\dots\\otimes\\bigg(|0\\rangle + e^{{\\frac{2\\pi ix}{2^{n}}}}|1\\rangle\\bigg)\n",
        "\\end{align*}\n",
        "$$\n",
        "\n",
        "This represents a huge improvement on computational parameters, since classically this fuction presents a time complexity of the order $\\mathcal{O}(M \\log M)$ while quantum its quantum analogue $\\mathcal{O}(\\log^2 M)$, i.e, an exponential speed-up. This becomes clear when we observe that to encode all $M$ values from $0$ to $M-1$ we just need $\\log M$ qubits.\n",
        "\n",
        "And we can use this function to extract the period $r$ of a periodic superposition. We're not get in details of how to extract the period precisely, but thinking about a function that applies a certain periodic rotation on a string of qubits, what would happen if we applie it's inverse?"
      ]
    },
    {
      "cell_type": "markdown",
      "metadata": {
        "id": "cWwFwa9fRuaF"
      },
      "source": [
        "## The Protocol"
      ]
    },
    {
      "cell_type": "markdown",
      "metadata": {
        "id": "Mux0XJyIRuaG"
      },
      "source": [
        "Finally, with these concepts in hand we are able to see,  or almost, how the algorithm protocol works, with classical and quantum sub-routines. Let the input $N$ be an odd composite integer $N$.\n",
        "\n",
        "**Step 1.** Randomly pick a number $a$, so that, $1 < a \\leq N-1$. And choose $M$ to be a power of two close to $N$.\n",
        "\n",
        "**Step 2.** Check if $a$ is a non-trivial factor of $N$, i.e, $\\gcd(a, N) \\neq 1$. If it is, then we got our answer and are good to go.\n",
        "\n",
        "**Step 3.** Otherwise, initialize two registers with approximately $A \\approx \\log M$ and $B \\approx \\log N$ qubits (large enough to store modulo $M$ and $N$ values).\n",
        "\n",
        "$$\n",
        "   |q_0\\rangle = |0\\rangle^{A}|0\\rangle^{B}\n",
        "$$\n",
        "\n",
        "Then apply hadamard gates on the first register, obtaining\n",
        "\n",
        "$$\n",
        "\\begin{align*}\n",
        "  |q_1\\rangle & = H^{\\otimes A}|0\\rangle^{A}|0\\rangle^{B}\\\\&= \\frac{1}{\\sqrt{M}} \\sum_{x = 0}^{M - 1} |x\\rangle |0\\rangle\n",
        "\\end{align*}\n",
        "$$\n",
        "\n",
        "\n",
        "**Step 4.** Now, apply the periodic function $U_f = f(x) \\equiv a^{x}\\text{ mod }N$ to get the state\n",
        "\n",
        "$$\n",
        "\\begin{align*}\n",
        "    |q_2\\rangle &= U_f |q_1\\rangle\\\\\n",
        "                &= \\frac{1}{\\sqrt{M}} \\sum_{x = 0}^{M - 1} |x\\rangle |a^{x}\\text{ mod }N\\rangle\n",
        "\\end{align*}\n",
        "$$\n",
        "\n",
        "Measuring the second register we get a superposition on the first register which contains the periodic superpostion desired\n",
        "\n",
        "$$\n",
        "\\begin{align*}\n",
        "    |q_3\\rangle = \\sqrt{\\frac{r}{M}} \\sum_{s = 0}^{\\frac{M}{r - 1}} |sr + k\\rangle \n",
        "\\end{align*}\n",
        "$$\n",
        "\n",
        "where $k$ is number between $0$ and $r - 1$.\n",
        "\n",
        "**Step 5.** Applying the inverse QFT (by Quantum Phase Estimation) we can extract the phase of our superposition and get the period $r$.\n",
        "\n",
        "**Step 6.** Now if $r$ is a even number we can compute the $\\gcd(N, r \\pm 1)$ and if it is a not non-trivial factor of $N$ go back to **step 1**."
      ]
    },
    {
      "cell_type": "markdown",
      "metadata": {
        "id": "SrlNYjkqRuaG"
      },
      "source": [
        "## Why this works?\n",
        "\n",
        "The above results recurs from to lemmas, about non-trivial squaare roots. A non-trivial square root of $1$ modulo $N$ is any integer such that $x^2 \\equiv 1 \\text{ mod } N$ and $x^2 \\equiv \\pm 1 \\text{ mod } N$.\n",
        "\n",
        "**Lemma 1** *If* $x$ *is a non-trivial square root of* $1$ *modulo* $N$*, then one of* $\\gcd(x \\pm 1, N)$ *is a non-trivial factor of* $N$.\n",
        "\n",
        "\n",
        "*Proof:*  $x^2 \\equiv 1 \\text{ mod } N$ implies that $N | (x^2 - 1) = (x+1)(x-1)$. But since $x \\ncong \\pm 1 \\text{ mod } N$, $N$ does not divide either of the individual terms. Therefore one of $\\gcd(x \\pm 1, N)$ is a non-trivial factor of $N$.\n",
        "\n",
        "**Lemma 2** *Let $p, q$ be primes and $N = pq$, and* $x$ *be an uniformly chosen number between* $0$ *and* $N-1$. *If* $\\gcd(x, N) = 1$*, then with probability at least* $\\frac{3}{8}$ *the order* $r$ *of* $x \\text{ mod } N$ *is even, and moreover* $x^{r/2}$ *is a non-trivial square of* $1 \\text{ mod } N$.\n",
        "\n",
        "*Proof:* To prove this we can use the Chinese Remainder Theorem. Lets choose a number $x$ uniformly between $0$ and $N - 1$. Which is the same of choosing $x_i$ and $x_j$ from $0$ to $p-1$ and $0$ to $q-1$ respectvely. And moreover we have that $r_i | r$ and $r_j | r$, the orders of $x_i$ and $x_j$ respectively.\n",
        "\n",
        "Hence, $r_i$ is even when $x_i$ is odd and $r_j$ is even when $x_j$ is odd. Then, as $r$ is even when $r_i$ or $r_j$ is even, therefore $r$ is even with probability $3/4$.\n",
        "\n",
        "Now, we need to show that the probability of $x^{\\frac{r}{2}} \\equiv \\pm 1 \\text{ mod } N$ is at most $1/2$ when $r$ is even. As $x^{r} \\equiv 1 \\text{ mod } p$ and $x^{r} \\equiv \\text{ mod } q$ and there are only two square roots of 1 modulo a prime number, $\\pm 1$. There only four roots of $1$ modulo $N$, where only two of them can make  $x^{\\frac{r}{2}} \\equiv \\pm 1 \\text{ mod } N$.\n",
        "\n",
        "Further we conclude that our result holds."
      ]
    },
    {
      "cell_type": "markdown",
      "metadata": {
        "id": "08TA1BSCRuaG"
      },
      "source": [
        "## References "
      ]
    },
    {
      "cell_type": "markdown",
      "metadata": {
        "id": "hjgmOg6VRuaG"
      },
      "source": [
        "__[Wikipedia | Shor's Algorithm](https://en.wikipedia.org/wiki/Shor%27s_algorithm)__\\\n",
        "__[Learn Quantum Computation using Qiskit](https://qiskit.org/textbook/ch-algorithms/shor.html)__\\\n",
        "__[Algorithms - Dasgupta, C. H. Papadimitriou, and U. V. Vazirani]()__"
      ]
    }
  ],
  "metadata": {
    "kernelspec": {
      "display_name": "Python 3",
      "language": "python",
      "name": "python3"
    },
    "language_info": {
      "codemirror_mode": {
        "name": "ipython",
        "version": 3
      },
      "file_extension": ".py",
      "mimetype": "text/x-python",
      "name": "python",
      "nbconvert_exporter": "python",
      "pygments_lexer": "ipython3",
      "version": "3.8.10"
    },
    "colab": {
      "provenance": [],
      "include_colab_link": true
    }
  },
  "nbformat": 4,
  "nbformat_minor": 0
}
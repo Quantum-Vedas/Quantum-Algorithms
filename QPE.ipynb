{
  "cells": [
    {
      "cell_type": "markdown",
      "metadata": {
        "id": "view-in-github",
        "colab_type": "text"
      },
      "source": [
        "<a href=\"https://colab.research.google.com/github/Quantum-Vedas/Quantum-Algorithms/blob/main/QPE.ipynb\" target=\"_parent\"><img src=\"https://colab.research.google.com/assets/colab-badge.svg\" alt=\"Open In Colab\"/></a>"
      ]
    },
    {
      "cell_type": "code",
      "execution_count": null,
      "metadata": {
        "id": "sJaplGoQRCn-"
      },
      "outputs": [],
      "source": [
        "import matplotlib.pyplot as plt\n",
        "%matplotlib inline\n",
        "import numpy as np\n",
        "\n",
        "from qiskit import *\n",
        "from qiskit.providers.ibmq import least_busy\n",
        "from qiskit import QuantumCircuit, ClassicalRegister, QuantumRegister, execute\n",
        "from qiskit.quantum_info import Statevector\n",
        "from qiskit.circuit.library import QFT\n",
        "from qiskit.visualization import plot_state_qsphere\n",
        "from qiskit.quantum_info import Operator\n",
        "from qiskit.tools.monitor import job_monitor\n",
        "\n",
        "from qiskit.tools.visualization import plot_histogram\n",
        "from IPython.display import display, Math, Latex\n",
        "import math"
      ]
    },
    {
      "cell_type": "markdown",
      "metadata": {
        "id": "4enyIW_nRCoC"
      },
      "source": [
        "# Quantum Phase Estimation\n"
      ]
    },
    {
      "cell_type": "markdown",
      "metadata": {
        "id": "uDnpQwetRCoH"
      },
      "source": [
        "Given a unitary operator $U$ we want to find the solution $\\theta$ to the eigenvalue $\\lambda$ problem defined by the eigenvector identity $U|\\psi\\rangle = \\lambda|\\psi\\rangle$, where $|\\psi\\rangle$ is an eigenvector of $U$, and $\\lambda = e^{2\\pi i\\theta}$. Hence, our problem consists into solving the following equation\n",
        "\n",
        "$$\n",
        "U|\\psi\\rangle = e^{2\\pi i\\theta_{\\psi}}|\\psi\\rangle\n",
        "$$\n",
        "\n",
        "Which more precisely is: How can we extract the $\\theta_{\\psi}$ parameter given the ability to prepare $|\\psi\\rangle$ and apply the unitary operator $U$.\n",
        "\n",
        "The Quantum Phase Estimation is pretty useful for us, since the evolution of a Hamiltonian (real systems evolution over time) is unitary, which give us a important tool for quantum simulations.\n",
        "\n",
        "Before we start, I strongly recommend for those that are not familiar with the QFT to read the notebook about Quantum Fourier Transforms."
      ]
    },
    {
      "cell_type": "markdown",
      "metadata": {
        "id": "6zwNIrIrRCoJ"
      },
      "source": [
        "## The Circuit"
      ]
    },
    {
      "cell_type": "markdown",
      "metadata": {
        "id": "Gk3mZHoRRCoK"
      },
      "source": [
        "#### CIRCUIT IMAGE"
      ]
    },
    {
      "cell_type": "markdown",
      "metadata": {
        "id": "SY8V6FNXRCoL"
      },
      "source": [
        "We can see how the quantum phase estimation works with a simple example represented by the circuit above, where given a input $|x\\rangle = |0\\rangle|\\psi\\rangle$ we have the following algorithm steps.\n",
        "\n",
        "**Step 0.** At first, as already mentioned we initialize our circuit with a state\n",
        "$$\n",
        "    \\begin{align*}\n",
        "    |x_0\\rangle = |0\\rangle|\\psi\\rangle\n",
        "    \\end{align*}\n",
        "$$\n",
        "\n",
        "**Step 1.** Then we apply a Hadamard gate on the first Qubit, where we get a superposition state given by\n",
        "\n",
        "$$\n",
        "    \\begin{align*}\n",
        "    |x_1\\rangle &= H|0\\rangle|\\psi\\rangle\\\\\n",
        "                &= \\frac{1}{\\sqrt{2}}\\big(|0\\rangle + |1\\rangle\\big)|\\psi\\rangle\\\\\n",
        "                &= \\frac{1}{\\sqrt{2}}\\big(|0\\rangle|\\psi\\rangle + |1\\rangle|\\psi\\rangle\\big)\\\\\n",
        "    \\end{align*}\n",
        "$$\n",
        "\n",
        "**Step 2.** After, by applying a $x$ Controlled $U$ gate onto our $|\\psi\\rangle$ eigenstate we have that \n",
        "\n",
        "$$\n",
        "    \\begin{align*}\n",
        "    |x_2\\rangle &= \\frac{1}{\\sqrt{2}}\\big(|0\\rangle|\\psi\\rangle + e^{2\\pi i\\theta_{\\psi}}|1\\rangle|\\psi\\rangle\\big)\\\\\n",
        "    \\end{align*}\n",
        "$$\n",
        "\n",
        "**Step 3.** Finally, another Hadamard gate is applied to the first qubit giving us our final state\n",
        "\n",
        "$$\n",
        "    \\begin{align*}\n",
        "    |x_2\\rangle &= \\frac{1}{\\sqrt{2}}\\bigg(\\bigg(\\frac{|0\\rangle - |1\\rangle}{\\sqrt{2}}\\bigg)|\\psi\\rangle + e^{2\\pi i\\theta_{\\psi}}\\bigg(\\frac{|0\\rangle - |1\\rangle}{\\sqrt{2}}\\bigg)|\\psi\\rangle\\bigg)\\\\\n",
        "                &= \\frac{1}{2}\\bigg(|0\\rangle\\big(1 + e^{2\\pi i\\theta_{\\psi}}\\big) + |1\\rangle\\big(1 - e^{2\\pi i\\theta_{\\psi}}\\big)\\bigg)\n",
        "    \\end{align*}\n",
        "$$\n",
        "\n",
        "**Step 4.** And from this last equation we have that the two possible outcomes from a measurement on the first qubit of our circuit quantum state are \n",
        "\n",
        "$$\n",
        "    \\begin{align*}\n",
        "    \\text{Prob. of measuring } |0\\rangle \\Longrightarrow \\frac{1}{2}\\bigg| \\big(1 + e^{2\\pi i\\theta_{\\psi}}\\big)\\bigg|^2\\\\\n",
        "    \\text{Prob. of measuring } |1\\rangle \\Longrightarrow \\frac{1}{2}\\bigg| \\big(1 - e^{2\\pi i\\theta_{\\psi}}\\big)\\bigg|^2\\\\\n",
        "    \\end{align*}\n",
        "$$\n",
        "\n",
        "By this simple experiment we can extract $e^{i\\theta}$, however its precision may not be as good as wish, but using more qubits we can get a better approximation for our problem.\n",
        "\n",
        "In order to do the this we only need to generalize the steps above to a string of $n$ ancilla qubits $|0\\rangle^{\\otimes n}$, so we rewrite our initial state as $|x\\rangle = |0\\rangle^{\\otimes n}|\\psi\\rangle$ and build a new circuit as follows"
      ]
    },
    {
      "cell_type": "markdown",
      "metadata": {
        "id": "a52qowoARCoM"
      },
      "source": [
        "#### CIRCUIT IMAGE"
      ]
    },
    {
      "cell_type": "markdown",
      "metadata": {
        "id": "oDLccrR9RCoO"
      },
      "source": [
        "**Step 0.** Initialize the circuit with our $|x\\rangle$ state, so that $|x_0\\rangle = |0\\rangle^{\\otimes n}|\\psi\\rangle$\n",
        "\n",
        "**Step 1.** Apply Hadamard Gates to the ancilla qubits to get our superposition state\n",
        "\n",
        "$$\n",
        "    \\begin{align*}\n",
        "        |x_1\\rangle &= H^{\\otimes n}|0\\rangle^{\\otimes n}|\\psi\\rangle\\\\\n",
        "                    &= \\frac{1}{\\sqrt{2^n}}\\big(|0\\rangle + |1\\rangle\\big)^{\\otimes n}|\\psi\\rangle\\\\\n",
        "                    &= \\frac{1}{\\sqrt{2^n}}\\sum_{\\text{k} = 1}^{2^n - 1} |\\text{k}\\rangle |\\psi\\rangle\n",
        "    \\end{align*}\n",
        "$$\n",
        "\n",
        "**Step 2.** Now applying our $\\text{k}$ controlled $U$ gates into our state we have that\n",
        "\n",
        "$$\n",
        "    \\begin{align*}\n",
        "        |x_2\\rangle &= H^{\\otimes n}|0\\rangle^{\\otimes n}|\\psi\\rangle\\\\\n",
        "                    &= \\frac{1}{\\sqrt{2^n}}\\big(|0\\rangle + |1\\rangle\\big)^{\\otimes n}|\\psi\\rangle\\\\\n",
        "                    &= \\frac{1}{\\sqrt{2^n}}\\bigg(\\big(|0\\rangle + e^{2\\pi i\\theta_{\\psi}2^{n-1}}\\big) \\otimes \\big(|0\\rangle + e^{2\\pi i\\theta_{\\psi}2^{n-2}}|1\\rangle\\big) \\otimes \\dots \\otimes \\big(|0\\rangle + e^{2\\pi i\\theta_{\\psi}2^{0}}|1\\rangle\\big)\\bigg)\\\\\n",
        "                    &= \\frac{1}{\\sqrt{2^n}}\\sum_{\\text{k} = 1}^{2^n - 1} e^{2\\pi i\\theta_{\\psi} \\text{k}}|\\text{k}\\rangle |\\psi\\rangle\\\\\n",
        "    \\end{align*}\n",
        "$$\n",
        "\n",
        "**Step 3.** In the example above we used a Hadamard Gate to give us the final state to be measured, however it was a single ancilla qubit circuit, and for $n = 1$ the $\\mathrm{QFT}^{\\dagger}$ is exactly equal to the single qubit Hadamard Gate transform. And we know that the $\\mathrm{QFT}$ applied to a equal superposition state on $n$ qubits $|\\text{w}\\rangle$ give us \n",
        "\n",
        "$$\n",
        "    \\begin{align*}\n",
        "         |x\\rangle = QFT|\\text{w}\\rangle &= \\frac{1}{\\sqrt{2^n}}\\sum_{\\text{k} = 1}^{2^{n}-1}e^{\\frac{2\\pi \\text{w}i\\text{k}}{2^\\text{k}}}|\\text{k}\\rangle\\\\\n",
        "         &= \\frac{1}{\\sqrt{2^n}}\\bigg(\\big(|0\\rangle + e^{{\\frac{2\\pi ik}{2^1}}}|1\\rangle\\big)\\otimes\\big(|0\\rangle + e^{{\\frac{2\\pi ik}{2^2}}}|1\\rangle\\big)\\otimes\\big(|0\\rangle + e^{{\\frac{2\\pi ik}{2^3}}}|1\\rangle\\big)\\otimes\\dots\\otimes\\big(|0\\rangle + e^{{\\frac{2\\pi ik}{2^n}}}|1\\rangle\\big)\\bigg)\\\\\n",
        "    \\end{align*}\n",
        "$$\n",
        "\n",
        "We can notice that the final equation on **Step 2** $|x_2\\rangle$ is equal to the result above up by a factor $2^n\\theta_{\\psi}$.\n",
        "\n",
        "Therefone, applying the Inverse Quantum Fourier Transform $\\text{QFT}^\\dagger$, by measuring our final state we get an expected output of $|x_3\\rangle = |2^n\\theta_\\psi\\rangle$, and our final answer\n",
        "$$\n",
        "    \\theta_\\psi = \\frac{x_3}{2^n} \n",
        "$$"
      ]
    },
    {
      "cell_type": "markdown",
      "metadata": {
        "id": "-14WB1vQRCoP"
      },
      "source": [
        "### S-Gate Phase Estimation"
      ]
    },
    {
      "cell_type": "markdown",
      "metadata": {
        "id": "7U14W7beRCoP"
      },
      "source": [
        "Now, lets define the circuit to estimate the phase of the $S$-Gate or pauli-$Z^{1/2}$, which is given by the following matrix\n",
        "\n",
        "$$\n",
        "    S = \\begin{bmatrix}\n",
        "    1 & 0\\\\\n",
        "    0 & i\n",
        "    \\end{bmatrix}\n",
        "$$\n",
        "which should induce a $\\frac{\\pi}{2}$ phase, with $\\theta = \\frac{1}{4}$.\n",
        "\n",
        "$$\n",
        "    S|1\\rangle = e^{2\\pi i\\theta}|1\\rangle\n",
        "$$"
      ]
    },
    {
      "cell_type": "code",
      "execution_count": null,
      "metadata": {
        "id": "4NSIMm9vRCoQ"
      },
      "outputs": [],
      "source": [
        "#INVERSE QFT FUNCTION (WITH SWAPS)\n",
        "def reflect(mcq, n):\n",
        "    for i in range(int(n/2)):\n",
        "        mcq.swap(i, n-i-1)\n",
        "\n",
        "def myInverseQFT(mcq, n):\n",
        "    for x_k in range(n):\n",
        "        for x_j in range(x_k):\n",
        "            angle = -math.pi/float(2**(x_k-x_j))\n",
        "            mcq.cu1(angle, x_j, x_k)\n",
        "        mcq.h(x_k)\n",
        "\n",
        "#APPLY THE CONTROLLED U GATES\n",
        "def build(mcq, n):\n",
        "    m = 1\n",
        "    for k in range(n):\n",
        "        for i in range(m):\n",
        "            mcq.cu1(math.pi/2, k, n)\n",
        "        m *= 2"
      ]
    },
    {
      "cell_type": "code",
      "execution_count": null,
      "metadata": {
        "id": "64ORTf2pRCoQ",
        "outputId": "d42b7553-f189-4e5f-d66e-f342a58cf199"
      },
      "outputs": [
        {
          "data": {
            "image/png": "[encoded data removed]",
            "text/plain": [
              "<Figure size 1645.78x325.08 with 1 Axes>"
            ]
          },
          "execution_count": 256,
          "metadata": {},
          "output_type": "execute_result"
        }
      ],
      "source": [
        "n = 3\n",
        "qpe = QuantumCircuit(n+1, n)\n",
        "qpe.x(n)\n",
        "qpe.h(range(n))\n",
        "\n",
        "build(qpe, n)\n",
        "reflect(qpe, n)\n",
        "myInverseQFT(qpe, n)\n",
        "\n",
        "qpe.draw('mpl')"
      ]
    },
    {
      "cell_type": "code",
      "execution_count": null,
      "metadata": {
        "id": "C70JWxAeRCoR",
        "outputId": "002042dd-4696-4389-dfbd-71b3fe179921"
      },
      "outputs": [
        {
          "data": {
            "image/png": "[encoded data removed]",
            "text/plain": [
              "<Figure size 504x360 with 1 Axes>"
            ]
          },
          "execution_count": 260,
          "metadata": {},
          "output_type": "execute_result"
        }
      ],
      "source": [
        "qpe.measure(range(n), range(n))\n",
        "results = execute(qpe, backend=Aer.get_backend('qasm_simulator'), shots=2048).result()\n",
        "ans = results.get_counts()\n",
        "plot_histogram(ans)"
      ]
    },
    {
      "cell_type": "markdown",
      "metadata": {
        "id": "tv-U_7AGRCoS"
      },
      "source": [
        "And as expected the result is exactly equal to $\\theta = \\frac{2}{2^{3}} = \\frac{1}{4}$."
      ]
    },
    {
      "cell_type": "markdown",
      "metadata": {
        "id": "QRiNVHLIRCoS"
      },
      "source": [
        "## References"
      ]
    },
    {
      "cell_type": "markdown",
      "metadata": {
        "id": "1EgEty0JRCoS"
      },
      "source": [
        "__[Learn Quantum Computation using Qiskit](https://community.qiskit.org/textbook/)__\\\n",
        "__[Quantum Phase Estimation Qiskit](https://qiskit.org/textbook/ch-algorithms/quantum-phase-estimation.html)__"
      ]
    }
  ],
  "metadata": {
    "kernelspec": {
      "display_name": "Python 3",
      "language": "python",
      "name": "python3"
    },
    "language_info": {
      "codemirror_mode": {
        "name": "ipython",
        "version": 3
      },
      "file_extension": ".py",
      "mimetype": "text/x-python",
      "name": "python",
      "nbconvert_exporter": "python",
      "pygments_lexer": "ipython3",
      "version": "3.8.5"
    },
    "colab": {
      "provenance": [],
      "include_colab_link": true
    }
  },
  "nbformat": 4,
  "nbformat_minor": 0
}